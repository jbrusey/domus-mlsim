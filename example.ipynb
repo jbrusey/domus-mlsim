{
 "cells": [
  {
   "cell_type": "markdown",
   "id": "related-jerusalem",
   "metadata": {},
   "source": [
    "# Example use of domus-mlsim\n",
    "\n",
    "This python notebook shows how to run the HVAC, DV0 and DV1 simulators together with a sample controller (SimpleHvac).\n",
    "\n",
    "The notebook assumes that the current directory (where you started `jupyter notebook` from) is within the `domus_mlsim` folder (as checked out from https://github.com/jbrusey/domus_mlsim). \n",
    "\n",
    "The first step is to import various definitions, create a controller, and load the simulator models. "
   ]
  },
  {
   "cell_type": "code",
   "execution_count": null,
   "id": "confidential-spain",
   "metadata": {},
   "outputs": [],
   "source": [
    "%matplotlib inline\n",
    "import matplotlib.pyplot as plt\n",
    "from IPython.display import set_matplotlib_formats\n",
    "set_matplotlib_formats('svg')\n",
    "import sys\n",
    "import pandas as pd\n",
    "import joblib\n",
    "import numpy as np\n",
    "import seaborn as sns\n",
    "\n",
    "sns.set_theme()\n",
    "\n",
    "from domus_mlsim import (HVAC_UT_COLUMNS,\n",
    "                        HVAC_XT_COLUMNS,\n",
    "                        DV0_UT_COLUMNS,\n",
    "                        DV0_XT_COLUMNS,\n",
    "                        DV1_UT_COLUMNS,\n",
    "                        DV1_XT_COLUMNS,\n",
    "                        HvacUt,\n",
    "                        HvacXt,\n",
    "                        DV0Ut,\n",
    "                        DV0Xt,\n",
    "                        DV1Ut,\n",
    "                        DV1Xt,\n",
    "                        SimpleHvac,\n",
    "                        kw_to_array,\n",
    "                        MLSim,\n",
    "                        KELVIN,\n",
    "                        run_dv0_sim,\n",
    "                        run_dv1_sim,\n",
    "                        load_dv0,\n",
    "                        load_dv1,\n",
    "                        load_hvac,\n",
    "                        )\n",
    "\n",
    "\n",
    "dv0_scalar_and_model = load_dv0()\n",
    "dv1_scalar_and_model = load_dv1()\n",
    "hvac_scalar_and_model = load_hvac()\n",
    "controller = SimpleHvac()"
   ]
  },
  {
   "cell_type": "markdown",
   "id": "unusual-destination",
   "metadata": {},
   "source": [
    "We define a `plot_results` function to make it easy to plot the most important variables. Alter this to add other variables or reformat the plots."
   ]
  },
  {
   "cell_type": "code",
   "execution_count": null,
   "id": "dependent-drinking",
   "metadata": {},
   "outputs": [],
   "source": [
    "def plot_results(cabin, hvac, ctrl):\n",
    "    cabdf = pd.DataFrame(cabin, columns=DV0_XT_COLUMNS)\n",
    "    ax = cabdf.plot(y=['t_drvr1', 't_drvr2', 't_drvr3', 'ws'],)\n",
    "    ax.set(xlabel='Time (s)', ylabel='Temperature (K)')\n",
    "\n",
    "    ax = cabdf.plot(y=['v_drvr1', 'v_drvr2', 'v_drvr3'], )\n",
    "    ax.set(xlabel='Time (s)', ylabel='Air velocity (m/s)')\n",
    "    hvacdf = pd.DataFrame(hvac, columns=HVAC_XT_COLUMNS)\n",
    "    ax = hvacdf.plot(y=HVAC_XT_COLUMNS, subplots=True,  figsize=(6,6))\n",
    "    ax[0].set(xlabel='Time (s)', ylabel='Humidity')\n",
    "    ax[1].set(xlabel='Time (s)', ylabel='Flow (m3/h)')\n",
    "    ax[2].set(xlabel='Time (s)', ylabel='Temperature (K)')\n",
    "    ax = pd.DataFrame(ctrl, columns=SimpleHvac.XT_COLUMNS).plot(\n",
    "        y=SimpleHvac.XT_COLUMNS, subplots=True, figsize=(6, 10))\n",
    "    ax[0].set(ylabel='Power (W)')\n",
    "    ax[1].set(ylabel='Power (W)')\n",
    "    ax[2].set(ylabel='Power (W)')\n",
    "    ax[3].set(ylabel='Power (W)')\n",
    "    ax[4].set(ylabel='Setting', ylim=(-0.1,1.1))\n",
    "    ax[5].set(ylabel='Setting', ylim=(-0.1,1.1))\n"
   ]
  },
  {
   "cell_type": "markdown",
   "id": "appreciated-orange",
   "metadata": {},
   "source": [
    "## DV0\n",
    "\n",
    "We can now run a DV0 simulation (that includes simulating the HVAC and running the controller). \n",
    "\n",
    "Two examples are tried - warming up from $-1$ degC and cooling down from $37$ degC.\n",
    "\n",
    "Note that although the controller tries to use window heating, the DV0 variant ignores this.\n",
    "\n",
    "### Warm up from ambient $-1$ C"
   ]
  },
  {
   "cell_type": "code",
   "execution_count": null,
   "id": "stable-howard",
   "metadata": {},
   "outputs": [],
   "source": [
    "cabin, hvac, ctrl = run_dv0_sim(dv0_scalar_and_model,\n",
    "                                hvac_scalar_and_model,\n",
    "                                controller,\n",
    "                                setpoint=KELVIN + 22,\n",
    "                                n=1200,\n",
    "                                ambient_t=KELVIN + 1,\n",
    "                                ambient_rh=0.99,\n",
    "                                cabin_t=KELVIN - 1,\n",
    "                                cabin_v=0,\n",
    "                                cabin_rh=0.99,\n",
    "                                solar1=100,\n",
    "                                solar2=50,\n",
    "                                car_speed=100)\n",
    "\n",
    "plot_results(cabin, hvac, ctrl)"
   ]
  },
  {
   "cell_type": "markdown",
   "id": "invisible-indonesia",
   "metadata": {},
   "source": [
    "### Cool down from 37C\n",
    "\n",
    "The following example shows what happens when cooling. Note that cooling is not performed completely and this may reflect a fault or limitation in the DV0 simulation (it does not occur for DV1). "
   ]
  },
  {
   "cell_type": "code",
   "execution_count": null,
   "id": "iraqi-paper",
   "metadata": {},
   "outputs": [],
   "source": [
    "cabin, hvac, ctrl = run_dv0_sim(dv0_scalar_and_model, \n",
    "                                hvac_scalar_and_model,\n",
    "                                controller,\n",
    "                                setpoint=KELVIN + 22,\n",
    "                                n=1200,\n",
    "                                ambient_t=KELVIN + 37,\n",
    "                                ambient_rh=0.99,\n",
    "                                cabin_t=KELVIN + 37,\n",
    "                                cabin_v=0,\n",
    "                                cabin_rh=0.50,\n",
    "                                solar1=300,\n",
    "                                solar2=150,\n",
    "                                car_speed=30)\n",
    "\n",
    "plot_results(cabin, hvac, ctrl)"
   ]
  },
  {
   "cell_type": "markdown",
   "id": "interracial-textbook",
   "metadata": {},
   "source": [
    "## DV1\n",
    "### Warm up from -1C"
   ]
  },
  {
   "cell_type": "code",
   "execution_count": null,
   "id": "international-kinase",
   "metadata": {},
   "outputs": [],
   "source": [
    "cabin, hvac, ctrl, b_u, h_u, c_u  = run_dv1_sim(dv1_scalar_and_model, \n",
    "                                hvac_scalar_and_model,\n",
    "                                \n",
    "                                controller,\n",
    "                                setpoint=KELVIN + 22,\n",
    "                                n=900,\n",
    "                                ambient_t=KELVIN - 1,\n",
    "                                ambient_rh=0.99,\n",
    "                                cabin_t=KELVIN - 1,\n",
    "                                cabin_v=0,\n",
    "                                cabin_rh=0.99,\n",
    "                                solar1=100,\n",
    "                                solar2=50,\n",
    "                                car_speed=0, log_inputs=True)\n",
    "\n",
    "plot_results(cabin, hvac, ctrl)"
   ]
  },
  {
   "cell_type": "markdown",
   "id": "guilty-michael",
   "metadata": {},
   "source": [
    "### Cool down from 37C"
   ]
  },
  {
   "cell_type": "code",
   "execution_count": null,
   "id": "danish-exchange",
   "metadata": {},
   "outputs": [],
   "source": [
    "cabin, hvac, ctrl, b_u, h_u, c_u = run_dv1_sim(dv1_scalar_and_model, \n",
    "                                hvac_scalar_and_model,\n",
    "                                controller,\n",
    "                                setpoint=KELVIN + 22,\n",
    "                                n=900,\n",
    "                                ambient_t=KELVIN + 37,\n",
    "                                ambient_rh=0.99,\n",
    "                                cabin_t=KELVIN + 37,\n",
    "                                cabin_v=0,\n",
    "                                cabin_rh=0.50,\n",
    "                                solar1=300,\n",
    "                                solar2=150,\n",
    "                                car_speed=30, log_inputs=True)\n",
    "\n",
    "plot_results(cabin, hvac, ctrl)"
   ]
  },
  {
   "cell_type": "code",
   "execution_count": null,
   "id": "searching-dance",
   "metadata": {},
   "outputs": [],
   "source": []
  }
 ],
 "metadata": {
  "kernelspec": {
   "display_name": "Python 3",
   "language": "python",
   "name": "python3"
  },
  "language_info": {
   "codemirror_mode": {
    "name": "ipython",
    "version": 3
   },
   "file_extension": ".py",
   "mimetype": "text/x-python",
   "name": "python",
   "nbconvert_exporter": "python",
   "pygments_lexer": "ipython3",
   "version": "3.6.13"
  }
 },
 "nbformat": 4,
 "nbformat_minor": 5
}
